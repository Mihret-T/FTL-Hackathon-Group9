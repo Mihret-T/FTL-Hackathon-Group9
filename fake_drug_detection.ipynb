{
 "cells": [
  {
   "cell_type": "code",
   "execution_count": 1,
   "id": "18d42d3d-b50d-4038-ad11-fe9c922e3b22",
   "metadata": {},
   "outputs": [],
   "source": [
    "%matplotlib inline"
   ]
  },
  {
   "cell_type": "code",
   "execution_count": 2,
   "id": "5708f8c8-7d7f-4d82-98c5-b474ad05927e",
   "metadata": {},
   "outputs": [
    {
     "name": "stdout",
     "output_type": "stream",
     "text": [
      "All libraries installed successfully!\n",
      "Roboflow installed successfully!\n"
     ]
    }
   ],
   "source": [
    "# !pip install ultralytics opencv-python pytesseract torch torchvision roboflow streamlit flask numpy matplotlib pillow\n",
    "\n",
    "# Import necessary libraries\n",
    "import os # allows file and directory operations\n",
    "import glob # help list files in directories\n",
    "import torch # required for deep learning models\n",
    "import cv2 # for Image Processing\n",
    "import ultralytics # YOLOv8 package for object detection\n",
    "import pytesseract # OCR for text extraction \n",
    "import matplotlib.pyplot as plt # to display images and plots\n",
    "\n",
    "print(\"All libraries installed successfully!\")\n",
    "\n",
    "from roboflow import Roboflow # to download and manage datasets from Roboflow \n",
    "print(\"Roboflow installed successfully!\")"
   ]
  },
  {
   "cell_type": "code",
   "execution_count": 5,
   "id": "8c20f912-cbd3-4e9e-9aed-f89ad341e5bd",
   "metadata": {},
   "outputs": [
    {
     "name": "stdout",
     "output_type": "stream",
     "text": [
      "🔍 Checking dataset location: /Users/mercy/Desktop/FTL/Hackathon - Fake Drug Detection/counterfeit_med_detection-4\n",
      "\n",
      "📂 Dataset Folder Contents: ['README.roboflow.txt', 'valid', 'README.dataset.txt', 'test', 'data.yaml', 'train', '.ipynb_checkpoints']\n",
      "\n",
      "📂 Train Folder Contents: ['labels.cache', 'images', 'labels']\n",
      "📂 Valid Folder Contents: ['labels.cache', 'images', 'labels']\n",
      "📂 Test Folder Contents: ['images', 'labels']\n",
      "✅ Dataset folder exists: ['README.roboflow.txt', 'valid', 'README.dataset.txt', 'test', 'data.yaml', 'train', '.ipynb_checkpoints']\n",
      "✅ data.yaml has been updated with absolute paths!\n",
      "\n",
      "Train Folder Contents: ['labels.cache', 'images', 'labels']\n",
      "Valid Folder Contents: ['labels.cache', 'images', 'labels']\n",
      "Test Folder Contents: ['images', 'labels']\n"
     ]
    }
   ],
   "source": [
    "# Get current working directory\n",
    "current_dir = os.getcwd()\n",
    "dataset_path = os.path.join(current_dir, \"counterfeit_med_detection-4\")\n",
    "\n",
    "# Print dataset path\n",
    "print(\"🔍 Checking dataset location:\", dataset_path)\n",
    "\n",
    "# List contents to confirm structure\n",
    "# List files and folders inside the counterfeit_med_detection-4\n",
    "print(\"\\n📂 Dataset Folder Contents:\", os.listdir(dataset_path))\n",
    "# Lists subfolders & files inside train/, valid/, and test/ directories.\n",
    "print(\"\\n📂 Train Folder Contents:\", os.listdir(f\"{dataset_path}/train\"))\n",
    "print(\"📂 Valid Folder Contents:\", os.listdir(f\"{dataset_path}/valid\"))\n",
    "print(\"📂 Test Folder Contents:\", os.listdir(f\"{dataset_path}/test\"))\n",
    "\n",
    "# Read the data.yaml file\n",
    "dataset_path = \"counterfeit_med_detection-4\"\n",
    "if os.path.exists(dataset_path):\n",
    "     print(\"✅ Dataset folder exists:\", os.listdir(dataset_path))\n",
    "else:\n",
    "    print(\"❌ Dataset folder NOT found!\")\n",
    "\n",
    "\n",
    "# Sets yaml_path to point to the dataset's data.yaml file.\n",
    "yaml_path = \"counterfeit_med_detection-4/data.yaml\"\n",
    "\n",
    "# Get absolute path of the dataset\n",
    "correct_dataset_path = os.path.abspath(\"counterfeit_med_detection-4\")\n",
    "\n",
    "# Correct YAML content with absolute paths\n",
    "corrected_yaml = f\"\"\"train: {correct_dataset_path}/train/images\n",
    "val: {correct_dataset_path}/valid/images\n",
    "test: {correct_dataset_path}/test/images\n",
    "\n",
    "nc: 2\n",
    "names: [\"authentic\", \"counterfeit\"]\n",
    "\"\"\"\n",
    "\n",
    "# Overwrite the existing data.yaml file\n",
    "with open(yaml_path, \"w\") as file:\n",
    "    file.write(corrected_yaml)\n",
    "\n",
    "print(\"✅ data.yaml has been updated with absolute paths!\")\n",
    "\n",
    "# Check inside train/valid/test\n",
    "print(\"\\nTrain Folder Contents:\", os.listdir(f\"{dataset_path}/train\"))\n",
    "print(\"Valid Folder Contents:\", os.listdir(f\"{dataset_path}/valid\"))\n",
    "print(\"Test Folder Contents:\", os.listdir(f\"{dataset_path}/test\"))"
   ]
  },
  {
   "cell_type": "code",
   "execution_count": null,
   "id": "a19101ee-eb3c-4139-933e-4ad997971339",
   "metadata": {},
   "outputs": [
    {
     "name": "stdout",
     "output_type": "stream",
     "text": [
      "New https://pypi.org/project/ultralytics/8.3.90 available 😃 Update with 'pip install -U ultralytics'\n",
      "Ultralytics 8.3.89 🚀 Python-3.12.2 torch-2.6.0 CPU (Apple M3)\n",
      "\u001b[34m\u001b[1mengine/trainer: \u001b[0mtask=detect, mode=train, model=yolov8s.pt, data=counterfeit_med_detection-4/data.yaml, epochs=5, time=None, patience=2, batch=8, imgsz=320, save=True, save_period=-1, cache=False, device=None, workers=8, project=None, name=train11, exist_ok=False, pretrained=True, optimizer=auto, verbose=True, seed=0, deterministic=True, single_cls=False, rect=False, cos_lr=False, close_mosaic=10, resume=False, amp=True, fraction=1.0, profile=False, freeze=None, multi_scale=False, overlap_mask=True, mask_ratio=4, dropout=0.0, val=True, split=val, save_json=False, save_hybrid=False, conf=None, iou=0.7, max_det=300, half=False, dnn=False, plots=True, source=None, vid_stride=1, stream_buffer=False, visualize=False, augment=False, agnostic_nms=False, classes=None, retina_masks=False, embed=None, show=False, save_frames=False, save_txt=False, save_conf=False, save_crop=False, show_labels=True, show_conf=True, show_boxes=True, line_width=None, format=torchscript, keras=False, optimize=False, int8=False, dynamic=False, simplify=True, opset=None, workspace=None, nms=False, lr0=0.01, lrf=0.01, momentum=0.937, weight_decay=0.0005, warmup_epochs=3.0, warmup_momentum=0.8, warmup_bias_lr=0.1, box=7.5, cls=0.5, dfl=1.5, pose=12.0, kobj=1.0, nbs=64, hsv_h=0.015, hsv_s=0.7, hsv_v=0.4, degrees=0.0, translate=0.1, scale=0.5, shear=0.0, perspective=0.0, flipud=0.0, fliplr=0.5, bgr=0.0, mosaic=0.0, mixup=0.0, copy_paste=0.0, copy_paste_mode=flip, auto_augment=randaugment, erasing=0.4, crop_fraction=1.0, cfg=None, tracker=botsort.yaml, save_dir=runs/detect/train11\n",
      "Overriding model.yaml nc=80 with nc=2\n",
      "\n",
      "                   from  n    params  module                                       arguments                     \n",
      "  0                  -1  1       928  ultralytics.nn.modules.conv.Conv             [3, 32, 3, 2]                 \n",
      "  1                  -1  1     18560  ultralytics.nn.modules.conv.Conv             [32, 64, 3, 2]                \n",
      "  2                  -1  1     29056  ultralytics.nn.modules.block.C2f             [64, 64, 1, True]             \n",
      "  3                  -1  1     73984  ultralytics.nn.modules.conv.Conv             [64, 128, 3, 2]               \n",
      "  4                  -1  2    197632  ultralytics.nn.modules.block.C2f             [128, 128, 2, True]           \n",
      "  5                  -1  1    295424  ultralytics.nn.modules.conv.Conv             [128, 256, 3, 2]              \n",
      "  6                  -1  2    788480  ultralytics.nn.modules.block.C2f             [256, 256, 2, True]           \n",
      "  7                  -1  1   1180672  ultralytics.nn.modules.conv.Conv             [256, 512, 3, 2]              \n",
      "  8                  -1  1   1838080  ultralytics.nn.modules.block.C2f             [512, 512, 1, True]           \n",
      "  9                  -1  1    656896  ultralytics.nn.modules.block.SPPF            [512, 512, 5]                 \n",
      " 10                  -1  1         0  torch.nn.modules.upsampling.Upsample         [None, 2, 'nearest']          \n",
      " 11             [-1, 6]  1         0  ultralytics.nn.modules.conv.Concat           [1]                           \n",
      " 12                  -1  1    591360  ultralytics.nn.modules.block.C2f             [768, 256, 1]                 \n",
      " 13                  -1  1         0  torch.nn.modules.upsampling.Upsample         [None, 2, 'nearest']          \n",
      " 14             [-1, 4]  1         0  ultralytics.nn.modules.conv.Concat           [1]                           \n",
      " 15                  -1  1    148224  ultralytics.nn.modules.block.C2f             [384, 128, 1]                 \n",
      " 16                  -1  1    147712  ultralytics.nn.modules.conv.Conv             [128, 128, 3, 2]              \n",
      " 17            [-1, 12]  1         0  ultralytics.nn.modules.conv.Concat           [1]                           \n",
      " 18                  -1  1    493056  ultralytics.nn.modules.block.C2f             [384, 256, 1]                 \n",
      " 19                  -1  1    590336  ultralytics.nn.modules.conv.Conv             [256, 256, 3, 2]              \n",
      " 20             [-1, 9]  1         0  ultralytics.nn.modules.conv.Concat           [1]                           \n",
      " 21                  -1  1   1969152  ultralytics.nn.modules.block.C2f             [768, 512, 1]                 \n",
      " 22        [15, 18, 21]  1   2116822  ultralytics.nn.modules.head.Detect           [2, [128, 256, 512]]          \n",
      "Model summary: 129 layers, 11,136,374 parameters, 11,136,358 gradients, 28.6 GFLOPs\n",
      "\n",
      "Transferred 349/355 items from pretrained weights\n",
      "Freezing layer 'model.22.dfl.conv.weight'\n"
     ]
    },
    {
     "name": "stderr",
     "output_type": "stream",
     "text": [
      "\u001b[34m\u001b[1mtrain: \u001b[0mScanning /Users/mercy/Desktop/FTL/Hackathon - Fake Drug Detection/counter\u001b[0m\n"
     ]
    },
    {
     "name": "stdout",
     "output_type": "stream",
     "text": [
      "\u001b[34m\u001b[1mtrain: \u001b[0mNew cache created: /Users/mercy/Desktop/FTL/Hackathon - Fake Drug Detection/counterfeit_med_detection-4/train/labels.cache\n"
     ]
    },
    {
     "name": "stderr",
     "output_type": "stream",
     "text": [
      "\u001b[34m\u001b[1mval: \u001b[0mScanning /Users/mercy/Desktop/FTL/Hackathon - Fake Drug Detection/counterfe\u001b[0m"
     ]
    },
    {
     "name": "stdout",
     "output_type": "stream",
     "text": [
      "\u001b[34m\u001b[1mval: \u001b[0mNew cache created: /Users/mercy/Desktop/FTL/Hackathon - Fake Drug Detection/counterfeit_med_detection-4/valid/labels.cache\n"
     ]
    },
    {
     "name": "stderr",
     "output_type": "stream",
     "text": [
      "\n"
     ]
    },
    {
     "name": "stdout",
     "output_type": "stream",
     "text": [
      "Plotting labels to runs/detect/train11/labels.jpg... \n",
      "\u001b[34m\u001b[1moptimizer:\u001b[0m 'optimizer=auto' found, ignoring 'lr0=0.01' and 'momentum=0.937' and determining best 'optimizer', 'lr0' and 'momentum' automatically... \n",
      "\u001b[34m\u001b[1moptimizer:\u001b[0m AdamW(lr=0.001667, momentum=0.9) with parameter groups 57 weight(decay=0.0), 64 weight(decay=0.0005), 63 bias(decay=0.0)\n",
      "Image sizes 320 train, 320 val\n",
      "Using 0 dataloader workers\n",
      "Logging results to \u001b[1mruns/detect/train11\u001b[0m\n",
      "Starting training for 5 epochs...\n",
      "\n",
      "      Epoch    GPU_mem   box_loss   cls_loss   dfl_loss  Instances       Size\n"
     ]
    },
    {
     "name": "stderr",
     "output_type": "stream",
     "text": [
      "        1/5         0G     0.7595     0.9554      1.093         17        320: 1\n",
      "                 Class     Images  Instances      Box(P          R      mAP50  m"
     ]
    },
    {
     "name": "stdout",
     "output_type": "stream",
     "text": [
      "                   all        122        240      0.623      0.669      0.726      0.533\n",
      "\n",
      "      Epoch    GPU_mem   box_loss   cls_loss   dfl_loss  Instances       Size\n"
     ]
    },
    {
     "name": "stderr",
     "output_type": "stream",
     "text": [
      "\n",
      "        2/5         0G     0.7484     0.7471      1.086         14        320: 1\n",
      "                 Class     Images  Instances      Box(P          R      mAP50  m"
     ]
    },
    {
     "name": "stdout",
     "output_type": "stream",
     "text": [
      "                   all        122        240       0.67      0.738      0.768      0.571\n",
      "\n",
      "      Epoch    GPU_mem   box_loss   cls_loss   dfl_loss  Instances       Size\n"
     ]
    },
    {
     "name": "stderr",
     "output_type": "stream",
     "text": [
      "\n",
      "        3/5         0G     0.7048     0.6978      1.054         15        320:  "
     ]
    }
   ],
   "source": [
    "from ultralytics import YOLO\n",
    "\n",
    "# Load YOLOv8 model\n",
    "model = YOLO(\"yolov8s.pt\")  # Use a pre-trained YOLOv8 model\n",
    "\n",
    "# Train the model\n",
    "# Trains the model for 5 training iterations & Resizes images to 320X320 pixels \n",
    "results = model.train(data=yaml_path, epochs=5, imgsz=320, patience=2, batch=8, mosaic=0.0)\n",
    "# model.train(data=\"counterfeit_med_detection-4/data.yaml\", epochs=50, imgsz=640)"
   ]
  },
  {
   "cell_type": "code",
   "execution_count": null,
   "id": "8d25271a-7d21-4d55-8c49-d908097759d3",
   "metadata": {},
   "outputs": [],
   "source": [
    "# Evaluate the model performance \n",
    "model.val()\n",
    "model.export(format=\"torchscript\")"
   ]
  },
  {
   "cell_type": "code",
   "execution_count": null,
   "id": "ebe849e2-9304-47b6-8ce2-18b352ff244d",
   "metadata": {},
   "outputs": [],
   "source": [
    "# Test the Model on a new Image\n",
    "# Pick a random test image\n",
    "test_image = \"counterfeit_med_detection-4/test/images/\" + os.listdir(\"counterfeit_med_detection-4/test/images\")[0]\n",
    "\n",
    "# Run inference (make predictions)\n",
    "results = model(test_image)\n",
    "\n",
    "# Show the detected image\n",
    "results.show()\n"
   ]
  },
  {
   "cell_type": "code",
   "execution_count": null,
   "id": "f0b7e50e-1f0e-470c-8ff1-f30e1d25b0f5",
   "metadata": {},
   "outputs": [],
   "source": []
  }
 ],
 "metadata": {
  "kernelspec": {
   "display_name": "Python 3 (ipykernel)",
   "language": "python",
   "name": "python3"
  },
  "language_info": {
   "codemirror_mode": {
    "name": "ipython",
    "version": 3
   },
   "file_extension": ".py",
   "mimetype": "text/x-python",
   "name": "python",
   "nbconvert_exporter": "python",
   "pygments_lexer": "ipython3",
   "version": "3.12.2"
  }
 },
 "nbformat": 4,
 "nbformat_minor": 5
}
